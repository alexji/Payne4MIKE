{
 "cells": [
  {
   "cell_type": "markdown",
   "metadata": {},
   "source": [
    "** This file gives a brief overview of the capabilities of the code. **\n",
    "\n",
    "* The codes fit red arm spectra from Magellan/MIKE. \n",
    "\n",
    "* Since the codes are meant to be clean and minimal, it should not be hard to tweak the source codes for other purposes (say fitting the blue arm spectrum).\n",
    "\n",
    "* The code fit for basic stellar parameters (Teff, logg, [Fe/H], [$\\alpha$/Fe]), the broadening $v_{\\rm broad}$, radial velocity, and continuum, to all spectral orders, simultaneously."
   ]
  },
  {
   "cell_type": "code",
   "execution_count": 1,
   "metadata": {},
   "outputs": [],
   "source": [
    "%matplotlib inline\n",
    "\n",
    "# import packages\n",
    "import numpy as np\n",
    "from scipy.optimize import curve_fit\n",
    "from scipy import interpolate\n",
    "from scipy import signal\n",
    "from scipy.stats import norm\n",
    "\n",
    "import matplotlib\n",
    "import matplotlib.pyplot as plt\n",
    "import matplotlib.colors as colors\n",
    "import matplotlib.cm as cm\n",
    "from matplotlib import gridspec\n",
    "\n",
    "from cycler import cycler\n",
    "\n",
    "# import The Payne (https://github.com/tingyuansen/The_Payne)\n",
    "from Payne4MIKE import spectral_model\n",
    "from Payne4MIKE import utils\n",
    "from Payne4MIKE import fitting\n",
    "from Payne4MIKE.read_spectrum import read_carpy_fits\n"
   ]
  },
  {
   "cell_type": "code",
   "execution_count": 2,
   "metadata": {},
   "outputs": [],
   "source": [
    "# define plot properties\n",
    "import matplotlib.cm as cm\n",
    "\n",
    "from matplotlib import rcParams\n",
    "from matplotlib import rc\n",
    "from mpl_toolkits.axes_grid1 import make_axes_locatable\n",
    "\n",
    "def rgb(r,g,b):\n",
    "    return (float(r)/256.,float(g)/256.,float(b)/256.)\n",
    "\n",
    "cb2 = [rgb(31,120,180), rgb(255,127,0), rgb(51,160,44), rgb(227,26,28), \\\n",
    "       rgb(10,10,10), rgb(253,191,111), rgb(178,223,138), rgb(251,154,153)]\n",
    "\n",
    "rcParams['figure.figsize'] = (11,7.5)\n",
    "rcParams['figure.dpi'] = 300\n",
    "\n",
    "rcParams['lines.linewidth'] = 1\n",
    "\n",
    "rcParams['axes.prop_cycle'] = cycler('color', cb2)\n",
    "rcParams['axes.facecolor'] = 'white'\n",
    "rcParams['axes.grid'] = False\n",
    "\n",
    "rcParams['patch.facecolor'] = cb2[0]\n",
    "rcParams['patch.edgecolor'] = 'white'\n",
    "\n",
    "rcParams['font.family'] = 'Bitstream Vera Sans' \n",
    "rcParams['font.size'] = 25\n",
    "rcParams['font.weight'] = 300\n"
   ]
  },
  {
   "cell_type": "markdown",
   "metadata": {},
   "source": [
    "> Restore The Payne emulator."
   ]
  },
  {
   "cell_type": "code",
   "execution_count": 3,
   "metadata": {},
   "outputs": [],
   "source": [
    "# assuming Kurucz models\n",
    "NN_coeffs, wavelength_payne = utils.read_in_neural_network()\n",
    "w_array_0, w_array_1, w_array_2, b_array_0, b_array_1, b_array_2, x_min, x_max = NN_coeffs\n"
   ]
  },
  {
   "cell_type": "markdown",
   "metadata": {},
   "source": [
    "> Read in MIKE spectra."
   ]
  },
  {
   "cell_type": "code",
   "execution_count": 4,
   "metadata": {},
   "outputs": [
    {
     "name": "stderr",
     "output_type": "stream",
     "text": [
      "/Users/yting/anaconda3/lib/python3.7/site-packages/Payne4MIKE-0.1-py3.7.egg/Payne4MIKE/read_spectrum.py:98: RuntimeWarning: divide by zero encountered in power\n",
      "  ivar = image[0].data[noise_ext]**(-2)\n"
     ]
    }
   ],
   "source": [
    "# an example of a MIKE spectrum to be fitted\n",
    "wavelength, spectrum, spectrum_err = utils.read_in_example()\n",
    "\n",
    "# or restore your own here\n",
    "#read_path =  \"star-2red_multi.fits\"\n",
    "#wavelength, spectrum, spectrum_err = read_carpy_fits(read_path)\n",
    "\n",
    "#-----------------------------------------------------------------------------------\n",
    "# restore a default hot star spectrum to determine telluric features\n",
    "wavelength_blaze, spectrum_blaze, spectrum_err_blaze = utils.read_in_blaze_spectrum()\n",
    "\n",
    "# or restore your own here\n",
    "#read_path =  \"Hot_Star_HR9087.fits\"\n",
    "#wavelength_blaze, spectrum_blaze, spectrum_err_blaze = read_carpy_fits(read_path)\n",
    "\n"
   ]
  },
  {
   "cell_type": "markdown",
   "metadata": {},
   "source": [
    "> Massaging the spectra into a digestable format."
   ]
  },
  {
   "cell_type": "code",
   "execution_count": 5,
   "metadata": {},
   "outputs": [],
   "source": [
    "# cull nonsensible values\n",
    "spectrum = np.abs(spectrum)\n",
    "spectrum_blaze = np.abs(spectrum_blaze)\n",
    "\n",
    "# rescale the spectra by its median so it has a more reasonable range\n",
    "spectrum, spectrum_err = utils.scale_spectrum_by_median(spectrum, spectrum_err)\n",
    "spectrum_blaze, spectrum_err_blaze = utils.scale_spectrum_by_median(spectrum_blaze, spectrum_err_blaze)\n",
    "\n",
    "# truncate the end of each orders as they can contain nonsensible values\n",
    "spectrum = spectrum[:,30:-15]\n",
    "spectrum_err = spectrum_err[:,30:-15]\n",
    "wavelength = wavelength[:,30:-15]\n",
    "\n",
    "# match the wavelength (blaze -> spectrum)\n",
    "spectrum_blaze, wavelength_blaze = utils.match_blaze_to_spectrum(wavelength, spectrum, wavelength_blaze, spectrum_blaze)\n",
    "\n",
    "# use the blaze to determine telluric region\n",
    "spectrum_err = utils.mask_telluric_region(spectrum_err, spectrum_blaze)\n"
   ]
  },
  {
   "cell_type": "markdown",
   "metadata": {},
   "source": [
    "> Fit the spectrum."
   ]
  },
  {
   "cell_type": "code",
   "execution_count": 6,
   "metadata": {},
   "outputs": [
    {
     "name": "stdout",
     "output_type": "stream",
     "text": [
      "Finding the best initial radial velocity\n",
      "1 / 6\n",
      "2 / 6\n",
      "3 / 6\n",
      "4 / 6\n",
      "5 / 6\n",
      "6 / 6\n",
      "[Teff [K], logg, Fe/H, Alpha/Fe] =  4930.0 1.31 -0.37 -0.19\n",
      "vbroad [km/s] =  1.7\n",
      "RV [km/s] =  -40.3\n",
      "Chi square =  4.44785394354732\n"
     ]
    }
   ],
   "source": [
    "# the range of RV that we will search (in the unit of 100 km/s)\n",
    "# expand/refine the range of RV if the fit is stuck in a local minimum\n",
    "RV_array=np.linspace(-1,1.,6)\n",
    "\n",
    "popt_best, model_spec_best, chi_square = fitting.fitting_mike(spectrum, spectrum_err, spectrum_blaze,\\\n",
    "                                                  wavelength, NN_coeffs, wavelength_payne,\\\n",
    "                                                  p0_initial=None, RV_prefit=True, blaze_normalized=True,\\\n",
    "                                                  RV_array=RV_array, polynomial_order=2)\n",
    "\n",
    "# print best parameters\n",
    "# recale back\n",
    "popt_best_copy = np.copy(popt_best)\n",
    "popt_best[:4] = (popt_best[:4] + 0.5)*(x_max-x_min) + x_min\n",
    "popt_best[0] = popt_best[0]*1000.\n",
    "print(\"[Teff [K], logg, Fe/H, Alpha/Fe] = \",\\\n",
    "      int(popt_best[0]*1.)/1.,\\\n",
    "      int(popt_best[1]*100.)/100.,\\\n",
    "      int(popt_best[2]*100.)/100.,\\\n",
    "      int(popt_best[3]*100.)/100.)\n",
    "print(\"vbroad [km/s] = \", int(popt_best[-2]*10.)/10.)\n",
    "print(\"RV [km/s] = \", int(popt_best[-1]*1000.)/10.)\n",
    "print(\"Chi square = \", chi_square)\n"
   ]
  },
  {
   "cell_type": "code",
   "execution_count": 7,
   "metadata": {},
   "outputs": [
    {
     "name": "stdout",
     "output_type": "stream",
     "text": [
      "First fitting the blaze-normalized spectrum\n",
      "1 / 1\n",
      "[Teff [K], logg, Fe/H, Alpha/Fe] =  4539.0 1.3 -0.63 -0.19\n",
      "vbroad [km/s] =  1.9\n",
      "RV [km/s] =  -39.8\n",
      "Chi square =  16.24853100747457\n"
     ]
    }
   ],
   "source": [
    "RV_array = np.array([popt_best[-1]])\n",
    "popt_best, model_spec_best, chi_square = fitting.fitting_mike(spectrum, spectrum_err, spectrum_blaze,\\\n",
    "                                                  wavelength, NN_coeffs, wavelength_payne,\\\n",
    "                                                  p0_initial=None, RV_prefit=False, blaze_normalized=True,\\\n",
    "                                                  RV_array=RV_array, polynomial_order=2)\n",
    "\n",
    "# print best parameters\n",
    "# recale back\n",
    "popt_best_copy = np.copy(popt_best)\n",
    "popt_best[:4] = (popt_best[:4] + 0.5)*(x_max-x_min) + x_min\n",
    "popt_best[0] = popt_best[0]*1000.\n",
    "popt_best[-1] = popt_best[-1]*100.\n",
    "print(\"[Teff [K], logg, Fe/H, Alpha/Fe] = \",\\\n",
    "      int(popt_best[0]*1.)/1.,\\\n",
    "      int(popt_best[1]*100.)/100.,\\\n",
    "      int(popt_best[2]*100.)/100.,\\\n",
    "      int(popt_best[3]*100.)/100.)\n",
    "print(\"vbroad [km/s] = \", int(popt_best[-2]*10.)/10.)\n",
    "print(\"RV [km/s] = \", int(popt_best[-1]*10.)/10.)\n",
    "print(\"Chi square = \", chi_square)\n"
   ]
  },
  {
   "cell_type": "code",
   "execution_count": 8,
   "metadata": {},
   "outputs": [
    {
     "name": "stdout",
     "output_type": "stream",
     "text": [
      "(34, 7)\n"
     ]
    }
   ],
   "source": [
    "poly_initial = fitting.fit_continuum(spectrum, spectrum_err, wavelength, popt_best,\\\n",
    "                                     model_spec_best, polynomial_order=6, previous_polynomial_order=2)\n",
    "print(poly_initial.shape)"
   ]
  },
  {
   "cell_type": "code",
   "execution_count": 9,
   "metadata": {},
   "outputs": [
    {
     "name": "stdout",
     "output_type": "stream",
     "text": [
      "(244,)\n",
      "1 / 1\n"
     ]
    }
   ],
   "source": [
    "RV_array = np.array([popt_best_copy[-1]])\n",
    "p0_initial = np.concatenate([popt_best_copy[:4], poly_initial.ravel(), popt_best_copy[-2:]])\n",
    "print(p0_initial.shape)\n",
    "popt_best, model_spec_best, chi_square = fitting.fitting_mike(spectrum, spectrum_err, spectrum_blaze,\\\n",
    "                                                  wavelength, NN_coeffs, wavelength_payne,\\\n",
    "                                                  p0_initial = p0_initial,\\\n",
    "                                                  RV_prefit=False, blaze_normalized=False,\\\n",
    "                                                  RV_array=RV_array, polynomial_order=6)\n"
   ]
  },
  {
   "cell_type": "code",
   "execution_count": 10,
   "metadata": {},
   "outputs": [
    {
     "name": "stdout",
     "output_type": "stream",
     "text": [
      "[Teff [K], logg, Fe/H, Alpha/Fe] =  4638.0 0.9 -0.51 -0.19\n",
      "vbroad [km/s] =  2.0\n",
      "RV [km/s] =  -39.7\n",
      "Chi square =  7.291870183272961\n"
     ]
    }
   ],
   "source": [
    "# print best parameters\n",
    "# recale back\n",
    "popt_best_copy = np.copy(popt_best)\n",
    "popt_best[:4] = (popt_best[:4] + 0.5)*(x_max-x_min) + x_min\n",
    "popt_best[0] = popt_best[0]*1000.\n",
    "popt_best[-1] = popt_best[-1]*100.\n",
    "print(\"[Teff [K], logg, Fe/H, Alpha/Fe] = \",\\\n",
    "      int(popt_best[0]*1.)/1.,\\\n",
    "      int(popt_best[1]*100.)/100.,\\\n",
    "      int(popt_best[2]*100.)/100.,\\\n",
    "      int(popt_best[3]*100.)/100.)\n",
    "print(\"vbroad [km/s] = \", int(popt_best[-2]*10.)/10.)\n",
    "print(\"RV [km/s] = \", int(popt_best[-1]*10.)/10.)\n",
    "print(\"Chi square = \", chi_square)\n"
   ]
  },
  {
   "cell_type": "markdown",
   "metadata": {},
   "source": [
    "> Plot the fits."
   ]
  },
  {
   "cell_type": "code",
   "execution_count": null,
   "metadata": {},
   "outputs": [
    {
     "name": "stderr",
     "output_type": "stream",
     "text": [
      "findfont: Font family ['Bitstream Vera Sans'] not found. Falling back to DejaVu Sans.\n",
      "findfont: Font family ['Bitstream Vera Sans'] not found. Falling back to DejaVu Sans.\n"
     ]
    }
   ],
   "source": [
    "smooth_length = 30\n",
    "\n",
    "# make plot for individual order\n",
    "for k in range(wavelength.shape[0]):\n",
    "    \n",
    "    # initiate the plot\n",
    "    fig = plt.figure(figsize=[18,20]);\n",
    "\n",
    "    # combine labels\n",
    "    ax = fig.add_subplot(111)\n",
    " \n",
    "    ax.spines['top'].set_color('none')\n",
    "    ax.spines['bottom'].set_color('none')\n",
    "    ax.spines['left'].set_color('none')\n",
    "    ax.spines['right'].set_color('none')\n",
    "    ax.tick_params(labelcolor='w', top='off', bottom='off', left='off', right='off')\n",
    "\n",
    "#----------------------------------------------------------------------\n",
    "    # write in different panel\n",
    "    for i in range(5):\n",
    "    \n",
    "        # wavelength range\n",
    "        wavelength_min = np.min(wavelength[k,:])-10.\n",
    "        wavelength_max = np.max(wavelength[k,:])+10.\n",
    "        wave_period = (wavelength_max-wavelength_min)/5.\n",
    "    \n",
    "        ax = fig.add_subplot(5,1,i+1)\n",
    "        plt.xlim([wavelength_min+wave_period*(i),wavelength_min+wave_period*(i+1)])\n",
    "    \n",
    "        # plot spectrum\n",
    "        plt.ylim([0.,2.])\n",
    "        plt.plot(wavelength[k,:], spectrum[k,:], lw=2, label=\"MIKE\", color=cb2[0])\n",
    "        plt.plot(wavelength[k,:], model_spec_best[k,:], label=\"Kurucz\", lw=2, color=cb2[1])\n",
    "    \n",
    "        # share also the measurement error\n",
    "        plt.fill_between(wavelength[k,:], model_spec_best[k,:]-spectrum_err[k,:],\\\n",
    "                         model_spec_best[k,:]+spectrum_err[k,:], alpha=0.5, color=cb2[1])\n",
    "    \n",
    "#----------------------------------------------------------------------\n",
    "        # show the masked telluric region\n",
    "        for j in range(spectrum_blaze[k,:].size-smooth_length):\n",
    "            if np.min(spectrum_blaze[k,j:j+smooth_length]) \\\n",
    "                        < 0.9*np.max(spectrum_blaze[k,j:j+smooth_length]):\n",
    "                plt.fill_between([wavelength[k,j],wavelength[k,j+smooth_length]],\\\n",
    "                                 [-1.,-1.], [3.5,3.5], alpha=0.5, color=\"gray\")\n",
    "    \n",
    "    # add axis and legend\n",
    "    plt.xlabel(\"Wavelength [A]\")\n",
    "    plt.legend(loc=\"lower right\", fontsize=28, frameon=False,\\\n",
    "                borderpad=0.05, labelspacing=0.1)\n",
    "\n",
    "    # save figure\n",
    "    plt.tight_layout()\n",
    "    plt.savefig(\"Star2_Fit_\" +str(k) + \".png\")\n",
    "    plt.close()"
   ]
  },
  {
   "cell_type": "code",
   "execution_count": null,
   "metadata": {},
   "outputs": [],
   "source": []
  },
  {
   "cell_type": "code",
   "execution_count": null,
   "metadata": {},
   "outputs": [],
   "source": []
  }
 ],
 "metadata": {
  "kernelspec": {
   "display_name": "Python 3",
   "language": "python",
   "name": "python3"
  },
  "language_info": {
   "codemirror_mode": {
    "name": "ipython",
    "version": 3
   },
   "file_extension": ".py",
   "mimetype": "text/x-python",
   "name": "python",
   "nbconvert_exporter": "python",
   "pygments_lexer": "ipython3",
   "version": "3.7.4"
  }
 },
 "nbformat": 4,
 "nbformat_minor": 2
}
